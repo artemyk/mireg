{
 "cells": [
  {
   "cell_type": "code",
   "execution_count": null,
   "metadata": {
    "collapsed": false
   },
   "outputs": [],
   "source": [
    "%load_ext autoreload\n",
    "%autoreload 2\n",
    "%matplotlib inline\n",
    "import matplotlib.pyplot as plt\n",
    "import numpy as np\n",
    "import cPickle\n",
    "doSave = False\n",
    "sfx = 'v3notrain'# 'rnn'\n",
    "sfx = 'v4snotrain'\n",
    "sfx = 'v5snotrain'\n",
    "sfx = 'v8train'  # 50 epochs\n",
    "sfx = 'v9train'\n",
    "sfx='v10train'"
   ]
  },
  {
   "cell_type": "code",
   "execution_count": null,
   "metadata": {
    "collapsed": false
   },
   "outputs": [],
   "source": [
    "with open('models/savedhist-%s.dat'%sfx, 'rb') as f:\n",
    "    saved_hist = cPickle.load(f)"
   ]
  },
  {
   "cell_type": "code",
   "execution_count": null,
   "metadata": {
    "collapsed": false
   },
   "outputs": [],
   "source": [
    "alphavals, mivalstst, mivalstrn, klvalstst, klvalstrn = [], [], [], [], []\n",
    "losscurves = []\n",
    "vallosscurves = []\n",
    "\n",
    "for alpha in sorted(saved_hist.keys()):\n",
    "    if alpha == 0:\n",
    "        continue\n",
    "    losscurves.append(saved_hist[alpha]['history']['loss'])\n",
    "    vallosscurves.append(saved_hist[alpha]['history']['val_loss'])\n",
    "    hist = saved_hist[alpha]['endlogs']\n",
    "    #ndx = -1 # np.argmin( hist['val_loss'] )\n",
    "    alphavals.append(alpha)\n",
    "    mivalstrn.append(hist['mi_trn'])\n",
    "    mivalstst.append(hist['mi_tst'])\n",
    "    klvalstst.append(hist['kl_tst'])\n",
    "    klvalstrn.append(hist['kl_trn'])\n",
    "    #valloss.append(hist['val_loss'][ndx])\n",
    "    #print ndx\n",
    "    \n",
    "alphavals, mivalstst, mivalstrn, klvalstst, klvalstrn = map(np.array, [alphavals, mivalstst, mivalstrn, klvalstst, klvalstrn])\n",
    "plt.figure(figsize=(14,4))\n",
    "plt.subplot(1,4,1)\n",
    "plt.scatter(alphavals, mivalstrn)\n",
    "plt.xlabel('alpha')\n",
    "plt.ylabel('MI-train')\n",
    "plt.subplot(1,4,2)\n",
    "plt.scatter(alphavals, mivalstst)\n",
    "plt.xlabel('alpha')\n",
    "plt.ylabel('MI-test')\n",
    "plt.subplot(1,4,3)\n",
    "plt.scatter(alphavals, klvalstrn)\n",
    "plt.xlabel('alpha')\n",
    "plt.ylabel('KL-train')\n",
    "plt.subplot(1,4,4)\n",
    "plt.scatter(alphavals, klvalstst)\n",
    "plt.xlabel('alpha')\n",
    "plt.ylabel('KL-test')\n",
    "#plt.subplot(1,4,4)\n",
    "#plt.scatter(alphavals, valloss)\n",
    "#plt.xlabel('alpha')\n",
    "#plt.ylabel('Valloss')"
   ]
  },
  {
   "cell_type": "code",
   "execution_count": null,
   "metadata": {
    "collapsed": false
   },
   "outputs": [],
   "source": [
    "print zip(*(alphavals, klvalstst))"
   ]
  },
  {
   "cell_type": "code",
   "execution_count": null,
   "metadata": {
    "collapsed": false
   },
   "outputs": [],
   "source": [
    "print mivalstrn\n",
    "print mivalstst\n"
   ]
  },
  {
   "cell_type": "code",
   "execution_count": null,
   "metadata": {
    "collapsed": false
   },
   "outputs": [],
   "source": [
    "plt.figure()\n",
    "for l in losscurves:\n",
    "    plt.plot(l)\n",
    "    plt.hold('on')\n",
    "plt.title('Loss')\n",
    "plt.figure()\n",
    "for l in vallosscurves:\n",
    "    plt.plot(l)\n",
    "    plt.hold('on')\n",
    "plt.title('Val Loss')\n",
    "print"
   ]
  },
  {
   "cell_type": "code",
   "execution_count": null,
   "metadata": {
    "collapsed": false
   },
   "outputs": [],
   "source": [
    "import matplotlib \n",
    "#with plt.style.context([u'seaborn-paper']):\n",
    "if True:\n",
    "    convertunits=1.\n",
    "    fig=plt.figure(figsize=(13,4))\n",
    "    matplotlib.rcParams.update({'font.size': 16, 'lines.linewidth':2})\n",
    "    ax1 = fig.add_subplot(121)\n",
    "    plt.plot(convertunits*mivalstrn,convertunits*klvalstrn)\n",
    "    plt.xlabel('MI (bits)')\n",
    "    plt.ylabel('Cross-entropy (bits)')\n",
    "    plt.title('Training dataset')\n",
    "    ax2 = fig.add_subplot(122, sharey=ax1)\n",
    "    plt.plot(convertunits*mivalstst, convertunits*klvalstst)\n",
    "    plt.xlabel('MI (bits)')\n",
    "    plt.ylabel('Cross-entropy (bits)')\n",
    "    plt.title('Testing dataset')\n",
    "\n",
    "if doSave:\n",
    "    plt.savefig('imgs/%smnist.pdf'%pfx,bbox_inches='tight')\n",
    "#hist.history # ['val_loss']"
   ]
  },
  {
   "cell_type": "code",
   "execution_count": null,
   "metadata": {
    "collapsed": false
   },
   "outputs": [],
   "source": [
    "import matplotlib \n",
    "#with plt.style.context([u'seaborn-paper']):\n",
    "trnstyle = '--k'\n",
    "tststyle = ':b'\n",
    "if True:\n",
    "    fig=plt.figure(figsize=(15,4))\n",
    "    matplotlib.rcParams.update({'font.size': 16, 'lines.linewidth':1.5})\n",
    "    plt.subplot(1,3,1)\n",
    "    plt.plot(alphavals, mivalstrn,trnstyle, lw=2, label='Training')\n",
    "    plt.plot(alphavals, mivalstst,tststyle, lw=2, label='Testing')\n",
    "    #plt.plot(alphavals, alphavals*0+np.log2(10.), '-', lw=1, label='$\\log_2 10$')\n",
    "    #print alphavals, mivalstrn, mivalstst\n",
    "    plt.xlabel(r'$\\alpha$')\n",
    "    plt.ylabel('MI (bits)')\n",
    "    plt.locator_params(nbins=4,axis='x')\n",
    "    #plt.ylim([2.8,3.8])\n",
    "    \n",
    "    #plt.ylim([0,8])\n",
    "    plt.subplot(1,3,2)\n",
    "    plt.plot(alphavals, klvalstrn, trnstyle, label='Training')\n",
    "    plt.xlabel(r'$\\alpha$')\n",
    "    plt.ylabel('Cross-entropy (bits)')\n",
    "    #plt.ylim([0, plt.ylim()[1]*1.1])\n",
    "    plt.locator_params(nbins=4, axis='x')\n",
    "    plt.plot(alphavals, klvalstst, tststyle, label='Testing')\n",
    "    plt.subplot(1,3,3)\n",
    "    #dont shange units\n",
    "    convertunits = 1. # ln2 = np.log(2)\n",
    "    plt.plot(convertunits*mivalstrn,convertunits*klvalstrn, trnstyle, label='Training')\n",
    "    plt.xlabel('MI (bits)')\n",
    "    plt.ylabel('Cross-entropy (bits)')\n",
    "    #plt.ylim([0, plt.ylim()[1]*1.5])\n",
    "    #plt.title('Training dataset')\n",
    "    #ax2 = fig.add_subplot(122, sharey=ax1)\n",
    "    plt.plot(convertunits*mivalstst, convertunits*klvalstst, tststyle, label='Testing')\n",
    "    #plt.xlabel('MI (bits)')\n",
    "    #plt.ylabel('KL (bits)')\n",
    "    #plt.title('Testing dataset')\n",
    "    plt.legend()\n",
    "    fig.tight_layout()\n",
    "if doSave:\n",
    "    plt.savefig('imgs/%smnist2.pdf'%pfx,bbox_inches='tight')\n",
    "#hist.history # ['val_loss']\n",
    "\n",
    "asdf"
   ]
  },
  {
   "cell_type": "code",
   "execution_count": null,
   "metadata": {
    "collapsed": false
   },
   "outputs": [],
   "source": [
    "print \"%0.5f\"%1.5"
   ]
  },
  {
   "cell_type": "code",
   "execution_count": null,
   "metadata": {
    "collapsed": false
   },
   "outputs": [],
   "source": [
    "from mpl_toolkits.mplot3d import Axes3D\n",
    "#fitmodel1.00000.h5\n",
    "#activity = {}\n",
    "\n",
    "for fname in [\"models/fitmodel-v10train-%0.5f.h5\" % n for n in [0,0.8,1.2]]:\n",
    "    # [\"fitmodel1.50000.h5\",]\n",
    "    model = compilefunc(model)\n",
    "    model.load_weights(fname)\n",
    "\n",
    "    #activity = get_activations(model, -2, d.X_train)[0]\n",
    "    #get_activations = K.function([model.layers[0].input, K.learning_phase()], [noiselayer.output,])\n",
    "    #activations = get_activations([X_batch,0])\n",
    "    #activity = get_activations([d.X_train, 1])\n",
    "    #plt.figure()\n",
    "    #plot_activity(activity, colors=d.y_train, size=1) # , doPCA=False)\n",
    "    get_activations = K.function([model.layers[0].input, K.learning_phase()], [noiselayer.input,])\n",
    "    activity[fname]=get_activations([d.X_train,])[0]\n",
    "    "
   ]
  },
  {
   "cell_type": "code",
   "execution_count": null,
   "metadata": {
    "collapsed": false
   },
   "outputs": [],
   "source": []
  },
  {
   "cell_type": "code",
   "execution_count": null,
   "metadata": {
    "collapsed": false
   },
   "outputs": [],
   "source": []
  },
  {
   "cell_type": "code",
   "execution_count": null,
   "metadata": {
    "collapsed": false
   },
   "outputs": [],
   "source": []
  }
 ],
 "metadata": {
  "kernelspec": {
   "display_name": "Python 2",
   "language": "python",
   "name": "python2"
  },
  "language_info": {
   "codemirror_mode": {
    "name": "ipython",
    "version": 2
   },
   "file_extension": ".py",
   "mimetype": "text/x-python",
   "name": "python",
   "nbconvert_exporter": "python",
   "pygments_lexer": "ipython2",
   "version": "2.7.11"
  }
 },
 "nbformat": 4,
 "nbformat_minor": 0
}
