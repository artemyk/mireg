{
 "cells": [
  {
   "cell_type": "code",
   "execution_count": null,
   "metadata": {
    "collapsed": false
   },
   "outputs": [],
   "source": [
    "%load_ext autoreload\n",
    "%autoreload 2\n",
    "%matplotlib inline\n",
    "import matplotlib.pyplot as plt\n",
    "import numpy as np\n",
    "import cPickle\n",
    "doSave = True\n",
    "pfx = 'rnn'"
   ]
  },
  {
   "cell_type": "code",
   "execution_count": null,
   "metadata": {
    "collapsed": false
   },
   "outputs": [],
   "source": [
    "with open(pfx+'savedhist.dat', 'rb') as f:\n",
    "    saved_hist = cPickle.load(f)"
   ]
  },
  {
   "cell_type": "code",
   "execution_count": null,
   "metadata": {
    "collapsed": false
   },
   "outputs": [],
   "source": [
    "alphavals, mivalstst, mivalstrn, klvalstst, klvalstrn = [], [], [], [], []\n",
    "\n",
    "for alpha in sorted(saved_hist.keys()):\n",
    "    hist = saved_hist[alpha]['endlogs']\n",
    "    #ndx = -1 # np.argmin( hist['val_loss'] )\n",
    "    alphavals.append(alpha)\n",
    "    mivalstrn.append(hist['mi_trn'])\n",
    "    mivalstst.append(hist['mi_tst'])\n",
    "    klvalstst.append(hist['kl_tst'])\n",
    "    klvalstrn.append(hist['kl_trn'])\n",
    "    #valloss.append(hist['val_loss'][ndx])\n",
    "    #print ndx\n",
    "    \n",
    "alphavals, mivalstst, mivalstrn, klvalstst, klvalstrn = map(np.array, [alphavals, mivalstst, mivalstrn, klvalstst, klvalstrn])\n",
    "plt.figure(figsize=(14,4))\n",
    "plt.subplot(1,4,1)\n",
    "plt.scatter(alphavals, mivalstrn)\n",
    "plt.xlabel('alpha')\n",
    "plt.ylabel('MI-train')\n",
    "plt.subplot(1,4,2)\n",
    "plt.scatter(alphavals, mivalstst)\n",
    "plt.xlabel('alpha')\n",
    "plt.ylabel('MI-test')\n",
    "plt.subplot(1,4,3)\n",
    "plt.scatter(alphavals, klvalstrn)\n",
    "plt.xlabel('alpha')\n",
    "plt.ylabel('KL-train')\n",
    "plt.subplot(1,4,4)\n",
    "plt.scatter(alphavals, klvalstst)\n",
    "plt.xlabel('alpha')\n",
    "plt.ylabel('KL-test')\n",
    "#plt.subplot(1,4,4)\n",
    "#plt.scatter(alphavals, valloss)\n",
    "#plt.xlabel('alpha')\n",
    "#plt.ylabel('Valloss')"
   ]
  },
  {
   "cell_type": "code",
   "execution_count": null,
   "metadata": {
    "collapsed": false
   },
   "outputs": [],
   "source": [
    "import matplotlib \n",
    "#with plt.style.context([u'seaborn-paper']):\n",
    "if True:\n",
    "    fig=plt.figure(figsize=(13,4))\n",
    "    matplotlib.rcParams.update({'font.size': 16, 'lines.linewidth':2})\n",
    "    ax1 = fig.add_subplot(121)\n",
    "    ln2 = np.log(2)\n",
    "    print ln2*mivalstrn\n",
    "    plt.plot(ln2*mivalstrn,ln2*klvalstrn)\n",
    "    plt.xlabel('MI (bits)')\n",
    "    plt.ylabel('Cross-entropy (bits)')\n",
    "    plt.title('Training dataset')\n",
    "    ax2 = fig.add_subplot(122, sharey=ax1)\n",
    "    plt.plot(ln2*mivalstst, ln2*klvalstst)\n",
    "    plt.xlabel('MI (bits)')\n",
    "    plt.ylabel('Cross-entropy (bits)')\n",
    "    plt.title('Testing dataset')\n",
    "\n",
    "if doSave:\n",
    "    plt.savefig('imgs/%smnist.pdf'%pfx,bbox_inches='tight')\n",
    "#hist.history # ['val_loss']"
   ]
  },
  {
   "cell_type": "code",
   "execution_count": null,
   "metadata": {
    "collapsed": false
   },
   "outputs": [],
   "source": [
    "import matplotlib \n",
    "#with plt.style.context([u'seaborn-paper']):\n",
    "if True:\n",
    "    fig=plt.figure(figsize=(15,4))\n",
    "    matplotlib.rcParams.update({'font.size': 16, 'lines.linewidth':1.5})\n",
    "    plt.subplot(1,3,1)\n",
    "    plt.plot(alphavals, mivalstrn, label='Training')\n",
    "    plt.xlabel(r'$\\alpha$')\n",
    "    plt.ylabel('MI (bits)')\n",
    "    plt.locator_params(nbins=4,axis='x')\n",
    "\n",
    "    plt.plot(alphavals, mivalstst, label='Testing')\n",
    "    plt.ylim([0,8])\n",
    "    plt.subplot(1,3,2)\n",
    "    plt.plot(alphavals, klvalstrn, label='Training')\n",
    "    plt.xlabel(r'$\\alpha$')\n",
    "    plt.ylabel('Cross-entropy (bits)')\n",
    "    plt.ylim([0, plt.ylim()[1]*1.1])\n",
    "    plt.locator_params(nbins=4, axis='x')\n",
    "    plt.plot(alphavals, klvalstst, label='Testing')\n",
    "    plt.subplot(1,3,3)\n",
    "    \n",
    "    ln2 = np.log(2)\n",
    "    print ln2*mivalstrn\n",
    "    plt.plot(ln2*mivalstrn,ln2*klvalstrn, label='Training')\n",
    "    plt.xlabel('MI (bits)')\n",
    "    plt.ylabel('Cross-entropy (bits)')\n",
    "    plt.ylim([0, plt.ylim()[1]*1.5])\n",
    "    #plt.title('Training dataset')\n",
    "    #ax2 = fig.add_subplot(122, sharey=ax1)\n",
    "    plt.plot(ln2*mivalstst, ln2*klvalstst, label='Testing')\n",
    "    #plt.xlabel('MI (bits)')\n",
    "    #plt.ylabel('KL (bits)')\n",
    "    #plt.title('Testing dataset')\n",
    "    plt.legend()\n",
    "    fig.tight_layout()\n",
    "if doSave:\n",
    "    plt.savefig('imgs/%smnist2.pdf'%pfx,bbox_inches='tight')\n",
    "#hist.history # ['val_loss']\n",
    "\n",
    "asdf"
   ]
  },
  {
   "cell_type": "code",
   "execution_count": null,
   "metadata": {
    "collapsed": false
   },
   "outputs": [],
   "source": [
    "from mpl_toolkits.mplot3d import Axes3D\n",
    "#fitmodel1.00000.h5\n",
    "#activity = {}\n",
    "for fname in [\"fitmodel.h5\", \"fitmodel1.00000.h5\", \"fitmodel2.00000.h5\"]:\n",
    "    # [\"fitmodel1.50000.h5\",]\n",
    "    compilefunc()\n",
    "    model.load_weights(fname)\n",
    "\n",
    "    #activity = get_activations(model, -2, d.X_train)[0]\n",
    "    #get_activations = K.function([model.layers[0].input, K.learning_phase()], [noiselayer.output,])\n",
    "    #activations = get_activations([X_batch,0])\n",
    "    #activity = get_activations([d.X_train, 1])\n",
    "    #plt.figure()\n",
    "    #plot_activity(activity, colors=d.y_train, size=1) # , doPCA=False)\n",
    "    get_activations = K.function([model.layers[0].input, K.learning_phase()], [noiselayer.input,])\n",
    "    activity[fname]=get_activations([d.X_train,])[0]\n",
    "    "
   ]
  },
  {
   "cell_type": "code",
   "execution_count": null,
   "metadata": {
    "collapsed": false
   },
   "outputs": [],
   "source": []
  }
 ],
 "metadata": {
  "kernelspec": {
   "display_name": "Python 2",
   "language": "python",
   "name": "python2"
  },
  "language_info": {
   "codemirror_mode": {
    "name": "ipython",
    "version": 2
   },
   "file_extension": ".py",
   "mimetype": "text/x-python",
   "name": "python",
   "nbconvert_exporter": "python",
   "pygments_lexer": "ipython2",
   "version": "2.7.11"
  }
 },
 "nbformat": 4,
 "nbformat_minor": 0
}
